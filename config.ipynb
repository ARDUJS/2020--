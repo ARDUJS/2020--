{
 "cells": [
  {
   "cell_type": "code",
   "execution_count": 1,
   "metadata": {},
   "outputs": [],
   "source": [
    "import torch\n",
    "import os\n",
    "\n",
    "is_pre = False\n",
    "os.environ[\"CUDA_DEVICE_ORDER\"] = \"PCI_BUS_ID\"  # 实现卡号匹配\n",
    "os.environ[\"CUDA_VISIBLE_DEVICES\"] = \"0\"\n",
    "do_train = True\n",
    "# do_train = False\n",
    "do_test = True\n",
    "do_eval = True\n",
    "# do_eval = False\n",
    "task_name = 'Discourage'\n",
    "MODEL_NAME = task_name\n",
    "device = torch.device('cuda' if torch.cuda.is_available() else 'cpu')\n",
    "train_batch_size = 8\n",
    "test_batch_size = 8\n",
    "dev_batch_size = 8\n",
    "gradient_accumulation_steps = 1\n",
    "num_train_epochs = 3\n",
    "eval_interval = 1000\n",
    "print_interval = 1\n",
    "SAVE_USE_ACCURACY = True\n",
    "seed = 42\n",
    "do_lower_case = True\n",
    "learning_rate = 2e-5\n",
    "warmup_proportion = 0.1\n",
    "\n",
    "\n",
    "max_seq_length = 256\n",
    "eval_best_loss = 999\n",
    "eval_best_accuracy = 0\n",
    "# eval_best_accuracy_model = '/home/yssong/LW/2020/bert_torch/output_checkpoints_bert_2/best_ac_model_static.bin'\n",
    "# eval_best_loss_model = '/home/yssong/LW/2020/bert_torch/output_checkpoints_bert_2/best_loss_model_static.bin'\n",
    "eval_best_accuracy_model = 'best_ac_model.bin'\n",
    "eval_best_loss_model = 'best_loss_model.bin'\n",
    "data_dir = 'data/train/train/'\n",
    "output_dir = '../output_bert_base_0'\n",
    "if is_pre:\n",
    "\toutput_bert = '../output_bert_pre'\n",
    "# data_dir = '/home/yssong/LW/2020/bert_torch/discourse5_data'\n",
    "# output_dir = './output_discourse5_data'\n",
    "local_rank = 0\n",
    "mlm_probability = 0.15"
   ]
  },
  {
   "cell_type": "code",
   "execution_count": null,
   "metadata": {},
   "outputs": [],
   "source": []
  }
 ],
 "metadata": {
  "kernelspec": {
   "display_name": "Python 3",
   "language": "python",
   "name": "python3"
  },
  "language_info": {
   "codemirror_mode": {
    "name": "ipython",
    "version": 3
   },
   "file_extension": ".py",
   "mimetype": "text/x-python",
   "name": "python",
   "nbconvert_exporter": "python",
   "pygments_lexer": "ipython3",
   "version": "3.7.6"
  }
 },
 "nbformat": 4,
 "nbformat_minor": 4
}
